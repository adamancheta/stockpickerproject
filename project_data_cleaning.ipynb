{
 "cells": [
  {
   "cell_type": "markdown",
   "metadata": {},
   "source": [
    "My section of the work:\n",
    "\n",
    "Content Writing:\n",
    "- Write the Introduction (topic and tasks).\n",
    "- Write the Data Description (size, source, and attributes).\n",
    "- Draft the Summary of Findings section.\n",
    "\n",
    "Interactive Visualizations:\n",
    "- Create two interactive visualizations:\n",
    "    - Line chart with user-selectable time ranges using D3.js.\n",
    "    - Scatter plot with selectable axes using Plotly.\n",
    "\n",
    "Webpage Integration:\n",
    "- Embed interactive visualizations into the webpage.\n",
    "- Ensure all content and visualizations are integrated smoothly.\n",
    "- Review and refine the final webpage for consistency and accuracy.\n"
   ]
  },
  {
   "cell_type": "code",
   "execution_count": 8,
   "metadata": {},
   "outputs": [
    {
     "name": "stdout",
     "output_type": "stream",
     "text": [
      "Line Chart Data Sample:\n",
      "        Date   Adj Close Company\n",
      "0 2019-03-14  114.750084   ADDYY\n",
      "1 2019-03-15  114.807297   ADDYY\n",
      "2 2019-03-18  112.595238   ADDYY\n",
      "3 2019-03-19  113.558250   ADDYY\n",
      "4 2019-03-20  114.340088   ADDYY\n",
      "\n",
      "Scatter Plot Data Sample:\n",
      "  Company   high_mean    low_mean  adj_close_mean   volume_mean\n",
      "0    AAPL  129.990979  127.185805      127.104573  9.895392e+07\n",
      "1   ADDYY  127.761262  125.719907      123.766634  7.990883e+04\n",
      "2     AMD   85.775064   82.339802       84.101785  6.627018e+07\n",
      "3    GOOG  103.284349  101.059955      102.195139  2.885142e+07\n",
      "4    INTC   47.339016   46.140111       43.418522  3.339969e+07\n"
     ]
    }
   ],
   "source": [
    "import pandas as pd\n",
    "import glob\n",
    "\n",
    "# Define the path to your CSV files\n",
    "path = \"project_csv/*.csv\"\n",
    "\n",
    "# Load all CSVs into a single DataFrame\n",
    "files = glob.glob(path)\n",
    "dataframes = []\n",
    "for file in files:\n",
    "    company_name = file.split('/')[-1].split('.')[0]  # Extract company name from the file name\n",
    "    df = pd.read_csv(file)\n",
    "    df['Company'] = company_name  # Add a column for the company name\n",
    "    dataframes.append(df)\n",
    "\n",
    "# Combine all data into one DataFrame\n",
    "merged_data = pd.concat(dataframes, ignore_index=True)\n",
    "\n",
    "# Process data for the line chart (keep Date, Adj Close, and Company)\n",
    "line_chart_data = merged_data[['Date', 'Adj Close', 'Company']].copy()\n",
    "line_chart_data['Date'] = pd.to_datetime(line_chart_data['Date'])  # Convert Date to datetime\n",
    "\n",
    "\n",
    "# Save line chart data for later use\n",
    "line_chart_data.to_csv('line_chart_data.csv', index=False)\n",
    "\n",
    "# Process data for the scatter plot (aggregate by Company)\n",
    "scatter_plot_data = merged_data.groupby('Company').agg(\n",
    "    high_mean=('High', 'mean'),\n",
    "    low_mean=('Low', 'mean'),\n",
    "    adj_close_mean=('Adj Close', 'mean'),\n",
    "    volume_mean=('Volume', 'mean')\n",
    ").reset_index()\n",
    "\n",
    "# Save scatter plot data for later use\n",
    "scatter_plot_data.to_csv('scatter_plot_data.csv', index=False)\n",
    "\n",
    "# Display results for verification\n",
    "print(\"Line Chart Data Sample:\")\n",
    "print(line_chart_data.head())\n",
    "\n",
    "print(\"\\nScatter Plot Data Sample:\")\n",
    "print(scatter_plot_data.head())\n"
   ]
  }
 ],
 "metadata": {
  "kernelspec": {
   "display_name": "myenv",
   "language": "python",
   "name": "python3"
  },
  "language_info": {
   "codemirror_mode": {
    "name": "ipython",
    "version": 3
   },
   "file_extension": ".py",
   "mimetype": "text/x-python",
   "name": "python",
   "nbconvert_exporter": "python",
   "pygments_lexer": "ipython3",
   "version": "3.10.15"
  }
 },
 "nbformat": 4,
 "nbformat_minor": 2
}
